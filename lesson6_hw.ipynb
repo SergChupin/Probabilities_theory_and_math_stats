{
 "cells": [
  {
   "cell_type": "markdown",
   "id": "f4287c19",
   "metadata": {},
   "source": [
    "#### Задача 1\n",
    "\n",
    "Даны значения величины заработной платы заемщиков банка (__salary__) и значения их поведенческого кредитного скоринга (__scoring__):\n",
    "\n",
    "- salary = [35, 45, 190, 200, 40, 70, 54, 150, 120, 110]\n",
    "- scoring = [401, 574, 874, 919, 459, 739, 653, 902, 746, 832]\n",
    "\n",
    "1. Найдите ковариацию этих двух величин: сначала без использования специальных функций, а затем с помощью функции __numpy.cov__. Полученные значения должны быть равны.\n",
    "2. Найдите коэффициент корреляции Пирсона: с помощью ковариации и средних квадратических отклонений двух признаков, а затем с помощью специальных функций из библиотек __numpy__ и __pandas__."
   ]
  },
  {
   "cell_type": "code",
   "execution_count": 1,
   "id": "7244f5f4",
   "metadata": {},
   "outputs": [],
   "source": [
    "import numpy as np\n",
    "import pandas as pd\n",
    "from scipy import stats\n",
    "\n",
    "salary = np.array([35, 45, 190, 200, 40, 70, 54, 150, 120, 110])\n",
    "scoring = np.array([401, 574, 874, 919, 459, 739, 653, 902, 746, 832])"
   ]
  },
  {
   "cell_type": "code",
   "execution_count": 2,
   "id": "37329a1a",
   "metadata": {},
   "outputs": [],
   "source": [
    "def covariation(X, Y, ddof=1):\n",
    "    X_mean = X.mean()\n",
    "    Y_mean = Y.mean()\n",
    "    return (((X - X_mean) * (Y - Y_mean)).sum() / (X.shape[0] - ddof))"
   ]
  },
  {
   "cell_type": "code",
   "execution_count": 3,
   "id": "f17c3cb8",
   "metadata": {},
   "outputs": [
    {
     "name": "stdout",
     "output_type": "stream",
     "text": [
      "1. Ковариация без использования спец. функций = 10175.37777777778\n",
      "   Ковариация с помощью функции numpy.cov = 10175.377777777776\n"
     ]
    }
   ],
   "source": [
    "print(f'1. Ковариация без использования спец. функций = {covariation(salary, scoring)}')\n",
    "print(f'   Ковариация с помощью функции numpy.cov = {np.cov(salary, scoring)[0,1]}')"
   ]
  },
  {
   "cell_type": "code",
   "execution_count": 4,
   "id": "0222ef0b",
   "metadata": {},
   "outputs": [],
   "source": [
    "def std(X, ddof=1):\n",
    "    X_mean = X.mean()\n",
    "    return np.sqrt(((X - X_mean)**2).sum() / (X.shape[0] - ddof))"
   ]
  },
  {
   "cell_type": "code",
   "execution_count": 5,
   "id": "9d9e84ad",
   "metadata": {},
   "outputs": [],
   "source": [
    "def correlation(X,Y):\n",
    "    return covariation(X, Y) / (std(X) * std(Y))"
   ]
  },
  {
   "cell_type": "code",
   "execution_count": 6,
   "id": "57d48d2d",
   "metadata": {},
   "outputs": [
    {
     "name": "stdout",
     "output_type": "stream",
     "text": [
      "2. Коэффициент корреляции Пирсона = 0.8874900920739164\n",
      "   Коэффициент корреляции Пирсона с помощью спец. функций numpy = 0.8874900920739164\n",
      "   Коэффициент корреляции Пирсона с помощью спец. функций pandas = 0.8874900920739168\n"
     ]
    }
   ],
   "source": [
    "print(f'2. Коэффициент корреляции Пирсона = {correlation(salary,  scoring)}')\n",
    "print(f'   Коэффициент корреляции Пирсона с помощью спец. функций numpy = {correlation(salary,  scoring)}')\n",
    "data = {'salary': salary, 'scoring': scoring}\n",
    "df = pd.DataFrame(data = data)\n",
    "df_correlation = df.corr()['scoring'][0]\n",
    "print(f'   Коэффициент корреляции Пирсона с помощью спец. функций pandas = {df_correlation}')"
   ]
  },
  {
   "cell_type": "markdown",
   "id": "a12420dc",
   "metadata": {},
   "source": [
    "#### Задача 2\n",
    "\n",
    "Измеряны значения IQ выборки студентов, обучающихся в местных технических вузах:\n",
    "\n",
    "131, 125, 115, 122, 131, 115, 107, 99, 125, 111\n",
    "\n",
    "Известно, что в генеральной совокупности IQ распределен нормально. Найдите доверительный интервал для математического ожидания с надежностью 0.95."
   ]
  },
  {
   "cell_type": "code",
   "execution_count": 7,
   "id": "6d1ea874",
   "metadata": {},
   "outputs": [],
   "source": [
    "students_IQ = np.array([131, 125, 115, 122, 131, 115, 107, 99, 125, 111])"
   ]
  },
  {
   "cell_type": "code",
   "execution_count": 8,
   "id": "bf134b60",
   "metadata": {},
   "outputs": [
    {
     "data": {
      "text/plain": [
       "118.1"
      ]
     },
     "execution_count": 8,
     "metadata": {},
     "output_type": "execute_result"
    }
   ],
   "source": [
    "X_mean = students_IQ.mean()\n",
    "X_mean"
   ]
  },
  {
   "cell_type": "code",
   "execution_count": 9,
   "id": "1c6b7e81",
   "metadata": {},
   "outputs": [
    {
     "data": {
      "text/plain": [
       "(2.2621571627409915, 10.004498987955369)"
      ]
     },
     "execution_count": 9,
     "metadata": {},
     "output_type": "execute_result"
    }
   ],
   "source": [
    "n = students_IQ.shape[0]\n",
    "t = stats.t.ppf(1-0.025,n-1)\n",
    "S = np.std(students_IQ, ddof=0)\n",
    "P = [X_mean - t * S / np.sqrt(n), X_mean + t * S / np.sqrt(n)]\n",
    "t, S"
   ]
  },
  {
   "cell_type": "code",
   "execution_count": 10,
   "id": "c33a1aca",
   "metadata": {},
   "outputs": [
    {
     "name": "stdout",
     "output_type": "stream",
     "text": [
      "Доверительный интервал - [110.9432125583706, 125.25678744162938]\n"
     ]
    }
   ],
   "source": [
    "print(f'Доверительный интервал - {P}')"
   ]
  },
  {
   "cell_type": "markdown",
   "id": "d25fc1cb",
   "metadata": {},
   "source": [
    "#### Задача 3\n",
    "\n",
    "Известно, что рост футболистов в сборной распределен нормально с известной дисперсией 25. На выборке объёма 27 выборочное среднее составило 174.2. Найдите доверительный интервал для математического ожидания с надежностью 0.95."
   ]
  },
  {
   "cell_type": "code",
   "execution_count": 11,
   "id": "21b6f064",
   "metadata": {},
   "outputs": [],
   "source": [
    "D = 25\n",
    "n = 27\n",
    "X_mean = 174.2"
   ]
  },
  {
   "cell_type": "code",
   "execution_count": 12,
   "id": "0bf0ba83",
   "metadata": {},
   "outputs": [
    {
     "data": {
      "text/plain": [
       "0.9622504486493763"
      ]
     },
     "execution_count": 12,
     "metadata": {},
     "output_type": "execute_result"
    }
   ],
   "source": [
    "sigma = np.sqrt(D / n)\n",
    "sigma"
   ]
  },
  {
   "cell_type": "code",
   "execution_count": 13,
   "id": "83fd43dd",
   "metadata": {},
   "outputs": [
    {
     "name": "stdout",
     "output_type": "stream",
     "text": [
      "Доверительный интервал - [172.27549910270125, 176.12450089729873]\n"
     ]
    }
   ],
   "source": [
    "P = [X_mean - 2 * sigma, X_mean + 2 * sigma]\n",
    "\n",
    "print(f'Доверительный интервал - {P}')"
   ]
  }
 ],
 "metadata": {
  "kernelspec": {
   "display_name": "Python 3",
   "language": "python",
   "name": "python3"
  },
  "language_info": {
   "codemirror_mode": {
    "name": "ipython",
    "version": 3
   },
   "file_extension": ".py",
   "mimetype": "text/x-python",
   "name": "python",
   "nbconvert_exporter": "python",
   "pygments_lexer": "ipython3",
   "version": "3.9.0"
  }
 },
 "nbformat": 4,
 "nbformat_minor": 5
}
