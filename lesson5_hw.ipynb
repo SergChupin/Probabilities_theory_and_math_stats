{
 "cells": [
  {
   "cell_type": "markdown",
   "id": "e151a234",
   "metadata": {},
   "source": [
    "### Урок 5. Проверка статистических гипотез. P-значения. Доверительные интервалы. A/B-тестирование"
   ]
  },
  {
   "cell_type": "markdown",
   "id": "6860b350",
   "metadata": {},
   "source": [
    "#### Задача 1\n",
    "\n",
    "Известно, что генеральная совокупность распределена нормально с известным средним квадратическим отклонением 16. Найти доверительный интервал для оценки математического ожидания mu с надёжностью 0.95, если выборочное среднее равно 80, а объём равен 256."
   ]
  },
  {
   "cell_type": "code",
   "execution_count": 1,
   "id": "5af39929",
   "metadata": {},
   "outputs": [],
   "source": [
    "import numpy as np\n",
    "from scipy import stats"
   ]
  },
  {
   "cell_type": "code",
   "execution_count": 2,
   "id": "9eed00e5",
   "metadata": {},
   "outputs": [],
   "source": [
    "n = 256\n",
    "m = 80\n",
    "s = 16"
   ]
  },
  {
   "cell_type": "code",
   "execution_count": 3,
   "id": "ebef80b9",
   "metadata": {},
   "outputs": [
    {
     "data": {
      "text/plain": [
       "(-1.9693105698491928, 1.9693105698491928)"
      ]
     },
     "execution_count": 3,
     "metadata": {},
     "output_type": "execute_result"
    }
   ],
   "source": [
    "p = 0.95\n",
    "alpha = 1 - p\n",
    "\n",
    "t1 = stats.t.ppf(alpha / 2, df=n - 1)\n",
    "t2 = stats.t.ppf(1 - alpha / 2, df=n - 1)\n",
    "\n",
    "t1, t2"
   ]
  },
  {
   "cell_type": "code",
   "execution_count": 4,
   "id": "4b3f3d85",
   "metadata": {},
   "outputs": [
    {
     "name": "stdout",
     "output_type": "stream",
     "text": [
      "Доверительный интервал: 78.0306894301508 - 81.9693105698492\n"
     ]
    }
   ],
   "source": [
    "print(f'Доверительный интервал: {m + t1 * s / np.sqrt(n)} - {m + t2 * s / np.sqrt(n)}')"
   ]
  },
  {
   "cell_type": "markdown",
   "id": "730bc0d2",
   "metadata": {},
   "source": [
    "#### Задача 2\n",
    "\n",
    "Продавец утверждает, что средний вес пачки печенья составляет 200 г. Из партии извлечена выборка из 10 пачек. Вес каждой пачки составляет:\n",
    "\n",
    "202, 203, 199, 197, 195, 201, 200, 204, 194, 190\n",
    "\n",
    "Известно, что их веса распределены нормально.\n",
    "1. Верно ли утверждение продавца, если учитывать, что уровень значимости равен 1%?\n",
    "2. Найдите P-значение для данного теста."
   ]
  },
  {
   "cell_type": "code",
   "execution_count": 5,
   "id": "ed5e24bd",
   "metadata": {},
   "outputs": [
    {
     "data": {
      "text/plain": [
       "198.5"
      ]
     },
     "execution_count": 5,
     "metadata": {},
     "output_type": "execute_result"
    }
   ],
   "source": [
    "weight = np.array([202, 203, 199, 197, 195, 201, 200, 204, 194, 190])\n",
    "m = weight.mean()\n",
    "m"
   ]
  },
  {
   "cell_type": "code",
   "execution_count": 6,
   "id": "44aaad61",
   "metadata": {},
   "outputs": [
    {
     "data": {
      "text/plain": [
       "4.453463071962462"
      ]
     },
     "execution_count": 6,
     "metadata": {},
     "output_type": "execute_result"
    }
   ],
   "source": [
    "n = 10\n",
    "sigma = np.sqrt(((weight - m)**2).sum()/(n-1))\n",
    "sigma"
   ]
  },
  {
   "cell_type": "code",
   "execution_count": 7,
   "id": "adad187e",
   "metadata": {},
   "outputs": [
    {
     "data": {
      "text/plain": [
       "0.9953850458407265"
      ]
     },
     "execution_count": 7,
     "metadata": {},
     "output_type": "execute_result"
    }
   ],
   "source": [
    "t3 = 3.3  # значение из таблицы коэффициентов Стьюдента\n",
    "t = stats.t(n-1)\n",
    "t.cdf(3.3)"
   ]
  },
  {
   "cell_type": "code",
   "execution_count": 8,
   "id": "57cd23a3",
   "metadata": {},
   "outputs": [
    {
     "name": "stdout",
     "output_type": "stream",
     "text": [
      "Доверительный интервал: 193.85258136165893 - 203.14741863834107\n"
     ]
    }
   ],
   "source": [
    "print(f'Доверительный интервал: {m - t3 * sigma / np.sqrt(n)} - {m + t3 * sigma / np.sqrt(n)}')"
   ]
  },
  {
   "cell_type": "markdown",
   "id": "be0b3586",
   "metadata": {},
   "source": [
    "Утверждение продавца верно, т.к. 200 г входит в доверительный интервал."
   ]
  },
  {
   "cell_type": "markdown",
   "id": "d9f7d6a0",
   "metadata": {},
   "source": [
    "#### Задача 3\n",
    "\n",
    "Утверждается, что шарики для подшипников, изготовленные автоматическим станком, имеют средний диаметр 17 мм. Используя уровень значимости 0.025 и правостороннюю критическую область, проверить данную гипотезу при условии, что в выборке из 100 шариков средний диаметр оказался равным 17.5 мм, а дисперсия известна и равна 4 мм."
   ]
  },
  {
   "cell_type": "code",
   "execution_count": 9,
   "id": "7790f5b3",
   "metadata": {},
   "outputs": [
    {
     "data": {
      "text/plain": [
       "17.39199279690801"
      ]
     },
     "execution_count": 9,
     "metadata": {},
     "output_type": "execute_result"
    }
   ],
   "source": [
    "# H0 - средний диаметр шарика для подшипника = 17 мм\n",
    "# H1 - средний диаметр шарика для подшипника > 17 мм\n",
    "\n",
    "n = 100\n",
    "D = 4\n",
    "sigma = np.sqrt(D/n)\n",
    "\n",
    "alpha = 0.025\n",
    "\n",
    "stats.norm.ppf(1 - alpha, 17, sigma)"
   ]
  },
  {
   "cell_type": "code",
   "execution_count": 10,
   "id": "a5bb1582",
   "metadata": {
    "scrolled": true
   },
   "outputs": [
    {
     "data": {
      "text/plain": [
       "17.4"
      ]
     },
     "execution_count": 10,
     "metadata": {},
     "output_type": "execute_result"
    }
   ],
   "source": [
    "# определяем критическую область правее точки a+2*sigma\n",
    "a = 17\n",
    "sigma = 0.2\n",
    "(a + 2 * sigma)"
   ]
  },
  {
   "cell_type": "markdown",
   "id": "7f81255c",
   "metadata": {},
   "source": [
    "Гипотеза _H0_ отвергается, т.к. среднее значение 17,5 мм попадает в критическую область и не входит в доверительный интервал."
   ]
  }
 ],
 "metadata": {
  "kernelspec": {
   "display_name": "Python 3",
   "language": "python",
   "name": "python3"
  },
  "language_info": {
   "codemirror_mode": {
    "name": "ipython",
    "version": 3
   },
   "file_extension": ".py",
   "mimetype": "text/x-python",
   "name": "python",
   "nbconvert_exporter": "python",
   "pygments_lexer": "ipython3",
   "version": "3.9.0"
  }
 },
 "nbformat": 4,
 "nbformat_minor": 5
}
