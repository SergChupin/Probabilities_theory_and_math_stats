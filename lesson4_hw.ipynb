{
 "cells": [
  {
   "cell_type": "markdown",
   "id": "114b69ad",
   "metadata": {},
   "source": [
    "### Урок 4. Непрерывные случайные величины. Функция распределения и плотность распределения вероятностей. Равномерное и нормальное распределение. Центральная предельная теорема"
   ]
  },
  {
   "cell_type": "markdown",
   "id": "11010c8e",
   "metadata": {},
   "source": [
    "#### Задача 1\n",
    "\n",
    "О непрерывной равномерно распределенной случайной величине B известно, что ее дисперсия равна 0.2. Можно ли найти правую границу величины B и ее среднее значение зная, что левая граница равна 0.5? Если да, найдите ее."
   ]
  },
  {
   "cell_type": "code",
   "execution_count": 1,
   "id": "1b58f02a",
   "metadata": {},
   "outputs": [],
   "source": [
    "import pandas as pd\n",
    "import numpy as np\n",
    "import math\n",
    "from scipy.optimize import fsolve\n",
    "from scipy import stats"
   ]
  },
  {
   "cell_type": "code",
   "execution_count": 2,
   "id": "46de1df9",
   "metadata": {},
   "outputs": [
    {
     "data": {
      "text/plain": [
       "array([2.04919334])"
      ]
     },
     "execution_count": 2,
     "metadata": {},
     "output_type": "execute_result"
    }
   ],
   "source": [
    "D = 0.2\n",
    "A = 0.5\n",
    "def find_b(x):\n",
    "    return (((x - A) ** 2 / 12) - D)\n",
    "\n",
    "B = fsolve(find_b, (1))\n",
    "B  # правая граница"
   ]
  },
  {
   "cell_type": "code",
   "execution_count": 3,
   "id": "471cf9a3",
   "metadata": {},
   "outputs": [
    {
     "data": {
      "text/plain": [
       "array([1.27459667])"
      ]
     },
     "execution_count": 3,
     "metadata": {},
     "output_type": "execute_result"
    }
   ],
   "source": [
    "M = (A + B) /2\n",
    "M  # среднее значение"
   ]
  },
  {
   "cell_type": "markdown",
   "id": "ff5e5833",
   "metadata": {},
   "source": [
    "#### Задача 2\n",
    "\n",
    "Рост взрослого населения города X имеет нормальное распределение, причем, средний рост равен 174 см, а среднее квадратическое отклонение равно 8 см. Посчитайте, какова вероятность того, что случайным образом выбранный взрослый человек имеет рост:\n",
    "1. больше 182 см?\n",
    "2. больше 190 см?\n",
    "3. от 166 см до 190 см?\n",
    "4. от 166 см до 182 см?\n",
    "5. от 158 см до 190 см?\n",
    "6. не выше 150 см или не ниже 190 см?\n",
    "7. не выше 150 см или не ниже 198 см?\n",
    "8. ниже 166 см?\n",
    "\n",
    "Задачу можно решить двумя способами: без использования сторонних библиотек (numpy, scipy, pandas и пр.), а затем проверить себя с помощью встроенных функций"
   ]
  },
  {
   "cell_type": "code",
   "execution_count": 4,
   "id": "3d692af6",
   "metadata": {},
   "outputs": [
    {
     "name": "stdout",
     "output_type": "stream",
     "text": [
      "Вероятность того, что взрослый человек имеет рост:\n",
      "1) больше 182 см = 0.1587\n",
      "2) больше 190 см = 0.0228\n",
      "3) от 166 см до 190 см = 0.8186\n",
      "4) от 166 см до 182 см = 0.6827\n",
      "5) от 158 см до 190 см = 0.9545\n",
      "6) не выше 150 см или не ниже 190 см = 0.0241\n",
      "7) не выше 150 см или не ниже 198 см = 0.0013\n",
      "8) ниже 166 см = 0.1587\n"
     ]
    }
   ],
   "source": [
    "height_medium = 174\n",
    "sigma = 8\n",
    "\n",
    "P_1 = 1 - stats.norm.cdf((182 - height_medium) / sigma) - stats.norm.cdf((0 - height_medium) / sigma)\n",
    "P_2 = 1 - stats.norm.cdf((190 - height_medium) / sigma) - stats.norm.cdf((0 - height_medium) / sigma)\n",
    "P_3 = stats.norm.cdf((190 - height_medium) / sigma) - stats.norm.cdf((166 - height_medium) / sigma)\n",
    "P_4 = stats.norm.cdf((182 - height_medium) / sigma) - stats.norm.cdf((166 - height_medium) / sigma)\n",
    "P_5 = stats.norm.cdf((190 - height_medium) / sigma) - stats.norm.cdf((158 - height_medium) /sigma)\n",
    "P_6 = (stats.norm.cdf((150 - height_medium) / sigma) - stats.norm.cdf((0 - height_medium) / sigma)) + P_2\n",
    "P_7 = (stats.norm.cdf((150 - height_medium) / sigma) - stats.norm.cdf((0 - height_medium) / sigma)) \n",
    "+ (1 - stats.norm.cdf((198 - height_medium) / sigma) - stats.norm.cdf((0 - height_medium) / sigma)) \n",
    "\n",
    "P_8 = stats.norm.cdf((166 - height_medium) / sigma) - stats.norm.cdf((0 - height_medium) / sigma)\n",
    "\n",
    "print('Вероятность того, что взрослый человек имеет рост:')\n",
    "print(f'1) больше 182 см = {np.round(P_1, 4)}')\n",
    "print(f'2) больше 190 см = {np.round(P_2, 4)}')\n",
    "print(f'3) от 166 см до 190 см = {np.round(P_3, 4)}')\n",
    "print(f'4) от 166 см до 182 см = {np.round(P_4, 4)}')\n",
    "print(f'5) от 158 см до 190 см = {np.round(P_5, 4)}')\n",
    "print(f'6) не выше 150 см или не ниже 190 см = {np.round(P_6, 4)}')\n",
    "print(f'7) не выше 150 см или не ниже 198 см = {np.round(P_7, 4)}')\n",
    "print(f'8) ниже 166 см = {np.round(P_8, 4)}')"
   ]
  }
 ],
 "metadata": {
  "kernelspec": {
   "display_name": "Python 3",
   "language": "python",
   "name": "python3"
  },
  "language_info": {
   "codemirror_mode": {
    "name": "ipython",
    "version": 3
   },
   "file_extension": ".py",
   "mimetype": "text/x-python",
   "name": "python",
   "nbconvert_exporter": "python",
   "pygments_lexer": "ipython3",
   "version": "3.9.0"
  }
 },
 "nbformat": 4,
 "nbformat_minor": 5
}
