{
 "cells": [
  {
   "cell_type": "markdown",
   "id": "71225c2b",
   "metadata": {},
   "source": [
    "### Урок 7. Многомерный статистический анализ. Линейная регрессия"
   ]
  },
  {
   "cell_type": "markdown",
   "id": "a7f97852",
   "metadata": {},
   "source": [
    "#### Задача 1\n",
    "\n",
    "Дана матрица объект-признак\n",
    "\n",
    "X = [[ 1.22401313, 2.30868478, 3.03636353, 2.69287214],\n",
    "[-0.18757272, 1.30337355, 5.12093014, 3.46363202],\n",
    "[-0.81094525, 1.82463398, 5.79686488, 1.86159445],\n",
    "[ 0.75129018, 2.67392052, 3.65529809, 1.66746094],\n",
    "[ 0.00972362, 1.97367255, 2.50594319, 1.69755173],\n",
    "[-0.62972637, 0.77750764, 2.84124027, 4.54410559],\n",
    "[ 2.29536229, 1.81206697, 1.95026215, 1.51874636],\n",
    "[ 0.0920418 , 2.26971361, 7.47708735, 2.61081203],\n",
    "[ 2.39252799, 3.17563985, 3.61420599, 5.10773362],\n",
    "[ 0.54983815, 2.87988651, 1.65752765, 1.59635987]]\n",
    "\n",
    "и значения целевой переменной\n",
    "\n",
    "y = [ 9.26193358, 9.700363 , 8.67214805, 8.74796974, 6.18689108,\n",
    "7.53312713, 7.57643777, 12.44965478, 14.29010746, 6.68361218]\n",
    "\n",
    "Подберите два признака (из четырёх) так, чтобы уровень линейной зависимости целевой переменной от значений этих признаков был максимальным. Другими словами, модель линейной регрессии на этих признаках должна давать наилучший результат.\n",
    "Является ли значимым получившееся уравнение регрессии?"
   ]
  },
  {
   "cell_type": "code",
   "execution_count": 1,
   "id": "c5617dbc",
   "metadata": {},
   "outputs": [],
   "source": [
    "%matplotlib inline\n",
    "import matplotlib.pyplot as plt\n",
    "import numpy as np\n",
    "import pandas as pd\n",
    "from scipy import stats"
   ]
  },
  {
   "cell_type": "code",
   "execution_count": 2,
   "id": "076c4734",
   "metadata": {},
   "outputs": [
    {
     "data": {
      "text/plain": [
       "(10, 4)"
      ]
     },
     "execution_count": 2,
     "metadata": {},
     "output_type": "execute_result"
    }
   ],
   "source": [
    "X = np.array([[ 1.22401313, 2.30868478, 3.03636353, 2.69287214], \n",
    "             [-0.18757272, 1.30337355, 5.12093014, 3.46363202], \n",
    "             [-0.81094525, 1.82463398, 5.79686488, 1.86159445], \n",
    "             [ 0.75129018, 2.67392052, 3.65529809, 1.66746094], \n",
    "             [ 0.00972362, 1.97367255, 2.50594319, 1.69755173], \n",
    "             [-0.62972637, 0.77750764, 2.84124027, 4.54410559], \n",
    "             [ 2.29536229, 1.81206697, 1.95026215, 1.51874636], \n",
    "             [ 0.0920418 , 2.26971361, 7.47708735, 2.61081203], \n",
    "             [ 2.39252799, 3.17563985, 3.61420599, 5.10773362], \n",
    "             [ 0.54983815, 2.87988651, 1.65752765, 1.59635987]])\n",
    "X.shape"
   ]
  },
  {
   "cell_type": "code",
   "execution_count": 3,
   "id": "80d522af",
   "metadata": {},
   "outputs": [
    {
     "data": {
      "text/plain": [
       "(10,)"
      ]
     },
     "execution_count": 3,
     "metadata": {},
     "output_type": "execute_result"
    }
   ],
   "source": [
    "y = np.array([9.26193358, 9.700363, 8.67214805, 8.74796974, 6.18689108, 7.53312713, 7.57643777, 12.44965478, 14.29010746, 6.68361218])\n",
    "y.shape"
   ]
  },
  {
   "cell_type": "code",
   "execution_count": 4,
   "id": "777bc349",
   "metadata": {},
   "outputs": [
    {
     "data": {
      "text/plain": [
       "((4, 10),\n",
       " array([[ 1.22401313, -0.18757272, -0.81094525,  0.75129018,  0.00972362,\n",
       "         -0.62972637,  2.29536229,  0.0920418 ,  2.39252799,  0.54983815],\n",
       "        [ 2.30868478,  1.30337355,  1.82463398,  2.67392052,  1.97367255,\n",
       "          0.77750764,  1.81206697,  2.26971361,  3.17563985,  2.87988651],\n",
       "        [ 3.03636353,  5.12093014,  5.79686488,  3.65529809,  2.50594319,\n",
       "          2.84124027,  1.95026215,  7.47708735,  3.61420599,  1.65752765],\n",
       "        [ 2.69287214,  3.46363202,  1.86159445,  1.66746094,  1.69755173,\n",
       "          4.54410559,  1.51874636,  2.61081203,  5.10773362,  1.59635987]]))"
      ]
     },
     "execution_count": 4,
     "metadata": {},
     "output_type": "execute_result"
    }
   ],
   "source": [
    "XT = X.transpose()\n",
    "XT.shape, XT"
   ]
  },
  {
   "cell_type": "code",
   "execution_count": 5,
   "id": "7a046ade",
   "metadata": {},
   "outputs": [
    {
     "name": "stdout",
     "output_type": "stream",
     "text": [
      "Линейная регрессия: y = 1.88 + 0.38 * x\n"
     ]
    }
   ],
   "source": [
    "b1 = (np.mean(XT[0] * XT[1]) - np.mean(XT[0]) * np.mean(XT[1])) / (np.mean(XT[0] ** 2) - np.mean(XT[0]) ** 2)\n",
    "b0 = np.mean(XT[1]) - b1 * np.mean(XT[0])\n",
    "b0, b1\n",
    "print(f'Линейная регрессия: y = {b0.round(2)} + {b1.round(2)} * x')"
   ]
  },
  {
   "cell_type": "code",
   "execution_count": 6,
   "id": "530264b9",
   "metadata": {},
   "outputs": [
    {
     "name": "stdout",
     "output_type": "stream",
     "text": [
      "Линейная регрессия: y = 4.15 + -0.68 * x\n"
     ]
    }
   ],
   "source": [
    "b1 = (np.mean(XT[0] * XT[2]) - np.mean(XT[0]) * np.mean(XT[2])) / (np.mean(XT[0] ** 2) - np.mean(XT[0]) ** 2)\n",
    "b0 = np.mean(XT[2]) - b1 * np.mean(XT[0])\n",
    "b0, b1\n",
    "print(f'Линейная регрессия: y = {b0.round(2)} + {b1.round(2)} * x')"
   ]
  },
  {
   "cell_type": "code",
   "execution_count": 7,
   "id": "f627c7eb",
   "metadata": {},
   "outputs": [
    {
     "name": "stdout",
     "output_type": "stream",
     "text": [
      "Линейная регрессия: y = 2.62 + 0.1 * x\n"
     ]
    }
   ],
   "source": [
    "b1 = (np.mean(XT[0] * XT[3]) - np.mean(XT[0]) * np.mean(XT[3])) / (np.mean(XT[0] ** 2) - np.mean(XT[0]) ** 2)\n",
    "b0 = np.mean(XT[3]) - b1 * np.mean(XT[0])\n",
    "b0, b1\n",
    "print(f'Линейная регрессия: y = {b0.round(2)} + {b1.round(2)} * x')"
   ]
  },
  {
   "cell_type": "code",
   "execution_count": 8,
   "id": "8f894942",
   "metadata": {},
   "outputs": [
    {
     "name": "stdout",
     "output_type": "stream",
     "text": [
      "Линейная регрессия: y = 4.27 + -0.24 * x\n"
     ]
    }
   ],
   "source": [
    "b1 = (np.mean(XT[1] * XT[2]) - np.mean(XT[1]) * np.mean(XT[2])) / (np.mean(XT[1] ** 2) - np.mean(XT[1]) ** 2)\n",
    "b0 = np.mean(XT[2]) - b1 * np.mean(XT[1])\n",
    "b0, b1\n",
    "print(f'Линейная регрессия: y = {b0.round(2)} + {b1.round(2)} * x')"
   ]
  },
  {
   "cell_type": "code",
   "execution_count": 9,
   "id": "f6332d5a",
   "metadata": {},
   "outputs": [
    {
     "name": "stdout",
     "output_type": "stream",
     "text": [
      "Линейная регрессия: y = 3.22 + -0.26 * x\n"
     ]
    }
   ],
   "source": [
    "b1 = (np.mean(XT[1] * XT[3]) - np.mean(XT[1]) * np.mean(XT[3])) / (np.mean(XT[1] ** 2) - np.mean(XT[1]) ** 2)\n",
    "b0 = np.mean(XT[3]) - b1 * np.mean(XT[1])\n",
    "b0, b1\n",
    "print(f'Линейная регрессия: y = {b0.round(2)} + {b1.round(2)} * x')"
   ]
  },
  {
   "cell_type": "code",
   "execution_count": 10,
   "id": "a728aaf5",
   "metadata": {},
   "outputs": [
    {
     "name": "stdout",
     "output_type": "stream",
     "text": [
      "Линейная регрессия: y = 2.48 + 0.09 * x\n"
     ]
    }
   ],
   "source": [
    "b1 = (np.mean(XT[2] * XT[3]) - np.mean(XT[2]) * np.mean(XT[3])) / (np.mean(XT[2] ** 2) - np.mean(XT[2]) ** 2)\n",
    "b0 = np.mean(XT[3]) - b1 * np.mean(XT[1])\n",
    "b0, b1\n",
    "print(f'Линейная регрессия: y = {b0.round(2)} + {b1.round(2)} * x')"
   ]
  },
  {
   "cell_type": "markdown",
   "id": "df548bb0",
   "metadata": {},
   "source": [
    "#### Задача 2\n",
    "\n",
    "Даны значения величины заработной платы заемщиков банка (salary) и значения их поведенческого кредитного скоринга (scoring):\n",
    "\n",
    "salary = [35, 45, 190, 200, 40, 70, 54, 150, 120, 110]\n",
    "\n",
    "scoring = [401, 574, 874, 919, 459, 739, 653, 902, 746, 832]\n",
    "\n",
    "Возьмём в качестве признака значение salary, а в качестве целевой переменной - scoring.\n",
    "\n",
    "1) Найдите коэффициенты линейной регрессии с помощью формул для парной регрессии, а затем с помощью метода наименьших квадратов.\n",
    "\n",
    "2) Постройте scatter plot по данным и отметьте на нём прямую линейной регрессии, полученную в п. 1.\n",
    "\n",
    "3) Посчитайте коэффициент детерминации.\n",
    "\n",
    "4) Оцените построенное уравнение регрессии с помощью F-критерия Фишера.\n",
    "\n",
    "5) (доп) Посчитать среднюю ошибку аппроксимации"
   ]
  },
  {
   "cell_type": "code",
   "execution_count": 11,
   "id": "7e67f4c0",
   "metadata": {},
   "outputs": [],
   "source": [
    "salary = np.array([35, 45, 190, 200, 40, 70, 54, 150, 120, 110])\n",
    "scoring = np.array([401, 574, 874, 919, 459, 739, 653, 902, 746, 832])"
   ]
  },
  {
   "cell_type": "code",
   "execution_count": 12,
   "id": "43a87d09",
   "metadata": {},
   "outputs": [
    {
     "name": "stdout",
     "output_type": "stream",
     "text": [
      "Коэффициенты линейной регрессии: 2.620538882402765, 444.1773573243596\n",
      "Линейная регрессия: y = 444.18 + 2.62 * x\n"
     ]
    }
   ],
   "source": [
    "b1 = (np.mean(salary * scoring ) - np.mean(salary) * np.mean(scoring)) / (np.mean(salary ** 2) - np.mean(salary) ** 2)\n",
    "b0 = np.mean(scoring) - b1 * np.mean(salary)\n",
    "print(f'Коэффициенты линейной регрессии: {b1}, {b0}')\n",
    "print(f'Линейная регрессия: y = {b0.round(2)} + {b1.round(2)} * x')"
   ]
  },
  {
   "cell_type": "code",
   "execution_count": 13,
   "id": "c78ff3c7",
   "metadata": {},
   "outputs": [
    {
     "data": {
      "text/plain": [
       "(10, 1)"
      ]
     },
     "execution_count": 13,
     "metadata": {},
     "output_type": "execute_result"
    }
   ],
   "source": [
    "x2 = pd.DataFrame(salary)\n",
    "x2.shape"
   ]
  },
  {
   "cell_type": "code",
   "execution_count": 14,
   "id": "59a494f3",
   "metadata": {},
   "outputs": [
    {
     "data": {
      "text/plain": [
       "(10, 2)"
      ]
     },
     "execution_count": 14,
     "metadata": {},
     "output_type": "execute_result"
    }
   ],
   "source": [
    "first = np.ones((x2.shape[0], 1))  # добавляем столбец с единицами\n",
    "x2 = np.hstack((first, x2))\n",
    "x2.shape"
   ]
  },
  {
   "cell_type": "code",
   "execution_count": 15,
   "id": "8c81ce4c",
   "metadata": {},
   "outputs": [
    {
     "data": {
      "text/plain": [
       "349464.00000000023"
      ]
     },
     "execution_count": 15,
     "metadata": {},
     "output_type": "execute_result"
    }
   ],
   "source": [
    "XTX = x2.T.dot(x2)\n",
    "np.linalg.det(XTX)"
   ]
  },
  {
   "cell_type": "code",
   "execution_count": 16,
   "id": "5bd6da87",
   "metadata": {},
   "outputs": [
    {
     "name": "stdout",
     "output_type": "stream",
     "text": [
      "Линейная регрессия: y = [444.18] + [2.62] * x\n"
     ]
    }
   ],
   "source": [
    "y2 = pd.DataFrame(scoring)\n",
    "\n",
    "XTX_ = np.linalg.inv(XTX)\n",
    "b = XTX_.dot(x2.T).dot(y2)\n",
    "print(f'Линейная регрессия: y = {b[0].round(2)} + {b[1].round(2)} * x')"
   ]
  },
  {
   "cell_type": "markdown",
   "id": "c19ca88a",
   "metadata": {},
   "source": [
    "По обоим методам коэффициенты равны"
   ]
  },
  {
   "cell_type": "code",
   "execution_count": 17,
   "id": "96474385",
   "metadata": {},
   "outputs": [
    {
     "data": {
      "text/plain": [
       "[<matplotlib.lines.Line2D at 0x1faea338610>]"
      ]
     },
     "execution_count": 17,
     "metadata": {},
     "output_type": "execute_result"
    },
    {
     "data": {
      "image/png": "[encoded data removed]",
      "text/plain": [
       "<Figure size 432x288 with 1 Axes>"
      ]
     },
     "metadata": {
      "needs_background": "light"
     },
     "output_type": "display_data"
    }
   ],
   "source": [
    "#  Строим график по данным\n",
    "\n",
    "Ox = salary\n",
    "Oy = b0 + b1 * Ox\n",
    "plt.scatter(salary, scoring)\n",
    "plt.plot(Ox, Oy)"
   ]
  },
  {
   "cell_type": "code",
   "execution_count": 18,
   "id": "d8fe4229",
   "metadata": {},
   "outputs": [
    {
     "name": "stdout",
     "output_type": "stream",
     "text": [
      "Коэффициент детерминации = 0.7876386635293678\n"
     ]
    }
   ],
   "source": [
    "#  Считаем коэф. детерминации\n",
    "\n",
    "pred_score = b0 + b1 * salary\n",
    "R = pred_score.var() / scoring.var()\n",
    "print(f'Коэффициент детерминации = {R}')"
   ]
  },
  {
   "cell_type": "code",
   "execution_count": 19,
   "id": "1afc21a1",
   "metadata": {},
   "outputs": [
    {
     "data": {
      "text/plain": [
       "29.67164085966437"
      ]
     },
     "execution_count": 19,
     "metadata": {},
     "output_type": "execute_result"
    }
   ],
   "source": [
    "#  Оценка с помощью F-критерия Фишера\n",
    "\n",
    "k1 = 1\n",
    "k2 = salary.shape[0] - k1 - 1\n",
    "T1 = (R / (1 - R)) * (k2 / k1)\n",
    "T1"
   ]
  },
  {
   "cell_type": "code",
   "execution_count": 20,
   "id": "27532816",
   "metadata": {},
   "outputs": [
    {
     "data": {
      "text/plain": [
       "5.317655071578714"
      ]
     },
     "execution_count": 20,
     "metadata": {},
     "output_type": "execute_result"
    }
   ],
   "source": [
    "alpha = 0.05\n",
    "\n",
    "F_test = stats.f.ppf(1 - alpha, k1, k2)\n",
    "F_test"
   ]
  },
  {
   "cell_type": "code",
   "execution_count": 21,
   "id": "382d67af",
   "metadata": {},
   "outputs": [
    {
     "name": "stdout",
     "output_type": "stream",
     "text": [
      "Уравнение регрессии значимо - 29.67 > 5.32\n"
     ]
    }
   ],
   "source": [
    "if T1 > F_test:\n",
    "    print(f'Уравнение регрессии значимо - {T1.round(2)} > {F_test.round(2)}')\n",
    "else:\n",
    "    print(f'Уравнение регрессии не значимо - {T1.round(2)} < {F_test.round(2)}')"
   ]
  },
  {
   "cell_type": "code",
   "execution_count": 22,
   "id": "caa273a0",
   "metadata": {},
   "outputs": [
    {
     "name": "stdout",
     "output_type": "stream",
     "text": [
      "Средняя ошибка аппроксимации = 0.1147\n"
     ]
    }
   ],
   "source": [
    "#  Средняя ошибка аппроксимации\n",
    "\n",
    "er = np.abs((scoring - pred_score) / scoring).mean()\n",
    "print(f'Средняя ошибка аппроксимации = {er.round(4)}')"
   ]
  }
 ],
 "metadata": {
  "kernelspec": {
   "display_name": "Python 3",
   "language": "python",
   "name": "python3"
  },
  "language_info": {
   "codemirror_mode": {
    "name": "ipython",
    "version": 3
   },
   "file_extension": ".py",
   "mimetype": "text/x-python",
   "name": "python",
   "nbconvert_exporter": "python",
   "pygments_lexer": "ipython3",
   "version": "3.9.0"
  }
 },
 "nbformat": 4,
 "nbformat_minor": 5
}
