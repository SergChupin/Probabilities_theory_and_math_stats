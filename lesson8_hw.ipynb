{
 "cells": [
  {
   "cell_type": "markdown",
   "id": "e2367929",
   "metadata": {},
   "source": [
    "### Урок 8. Дисперсионный анализ. Логистическая регрессия"
   ]
  },
  {
   "cell_type": "markdown",
   "id": "a3314e56",
   "metadata": {},
   "source": [
    "#### Задача 1\n",
    "\n",
    "Провести дисперсионный анализ для определения того, есть ли различия среднего роста среди взрослых футболистов, хоккеистов и штангистов. Даны значения роста в трех группах случайно выбранных спортсменов:\n",
    "\n",
    "- football_players = [173, 175, 180, 178, 177, 185, 183, 182]\n",
    "- hockey_players = [177, 179, 180, 188, 177, 172, 171, 184, 180]\n",
    "- lifters = [172, 173, 169, 177, 166, 180, 178, 177, 172, 166, 170]"
   ]
  },
  {
   "cell_type": "code",
   "execution_count": 1,
   "id": "d2b61158",
   "metadata": {},
   "outputs": [],
   "source": [
    "import numpy as np\n",
    "import pandas as pd\n",
    "from scipy import stats"
   ]
  },
  {
   "cell_type": "code",
   "execution_count": 2,
   "id": "f2e561b7",
   "metadata": {},
   "outputs": [],
   "source": [
    "football_players = np.array([173, 175, 180, 178, 177, 185, 183, 182])\n",
    "hockey_players = np.array([177, 179, 180, 188, 177, 172, 171, 184, 180])\n",
    "lifters = np.array([172, 173, 169, 177, 166, 180, 178, 177, 172, 166, 170])"
   ]
  },
  {
   "cell_type": "code",
   "execution_count": 3,
   "id": "57e9dd5c",
   "metadata": {},
   "outputs": [
    {
     "name": "stdout",
     "output_type": "stream",
     "text": [
      "Средний рост: футболистов - 179.125 - хоккеистов - 178.667 - штангистов - 172.727\n"
     ]
    }
   ],
   "source": [
    "football_players_mean = football_players.mean()\n",
    "hockey_players_mean = hockey_players.mean()\n",
    "lifters_mean = lifters.mean()\n",
    "print(f'Средний рост: футболистов - {football_players_mean} - хоккеистов - {hockey_players_mean.round(3)} - штангистов - {lifters_mean.round(3)}')"
   ]
  },
  {
   "cell_type": "code",
   "execution_count": 4,
   "id": "c677e53e",
   "metadata": {},
   "outputs": [
    {
     "name": "stdout",
     "output_type": "stream",
     "text": [
      "Средний рост по всем спортсменам: 176.464\n"
     ]
    }
   ],
   "source": [
    "total_height = np.concatenate([football_players, hockey_players, lifters])\n",
    "total_height_mean = total_height.mean()\n",
    "print(f'Средний рост по всем спортсменам: {total_height_mean.round(3)}')"
   ]
  },
  {
   "cell_type": "code",
   "execution_count": 5,
   "id": "9872e91f",
   "metadata": {},
   "outputs": [
    {
     "name": "stdout",
     "output_type": "stream",
     "text": [
      "Межгрупповое отклонение = 253.907\n"
     ]
    }
   ],
   "source": [
    "SSb = football_players.shape[0] * (football_players_mean - total_height_mean) ** 2 + hockey_players.shape[0] * (hockey_players_mean - total_height_mean) ** 2 + lifters.shape[0] * (lifters_mean - total_height_mean) ** 2\n",
    "print(f'Межгрупповое отклонение = {SSb.round(3)}')"
   ]
  },
  {
   "cell_type": "code",
   "execution_count": 6,
   "id": "e965bd00",
   "metadata": {},
   "outputs": [
    {
     "name": "stdout",
     "output_type": "stream",
     "text": [
      "Внутригрупповое отклонение = 577.057\n"
     ]
    }
   ],
   "source": [
    "SSw = ((football_players - football_players_mean)**2).sum() + ((hockey_players - hockey_players_mean) ** 2).sum() + ((lifters - lifters_mean) ** 2).sum()\n",
    "print(f'Внутригрупповое отклонение = {SSw.round(3)}')"
   ]
  },
  {
   "cell_type": "code",
   "execution_count": 7,
   "id": "6947569c",
   "metadata": {},
   "outputs": [
    {
     "data": {
      "text/plain": [
       "830.964285714286"
      ]
     },
     "execution_count": 7,
     "metadata": {},
     "output_type": "execute_result"
    }
   ],
   "source": [
    "SSb + SSw"
   ]
  },
  {
   "cell_type": "code",
   "execution_count": 8,
   "id": "01998515",
   "metadata": {},
   "outputs": [
    {
     "data": {
      "text/plain": [
       "830.9642857142854"
      ]
     },
     "execution_count": 8,
     "metadata": {},
     "output_type": "execute_result"
    }
   ],
   "source": [
    "((total_height - total_height_mean) ** 2).sum()"
   ]
  },
  {
   "cell_type": "code",
   "execution_count": 9,
   "id": "0b9dba96",
   "metadata": {},
   "outputs": [
    {
     "data": {
      "text/plain": [
       "True"
      ]
     },
     "execution_count": 9,
     "metadata": {},
     "output_type": "execute_result"
    }
   ],
   "source": [
    "(SSb + SSw).round(3) == ((total_height - total_height_mean) ** 2).sum().round(3)"
   ]
  },
  {
   "cell_type": "code",
   "execution_count": 10,
   "id": "dc2617e7",
   "metadata": {},
   "outputs": [
    {
     "data": {
      "text/plain": [
       "(28, 2, 25)"
      ]
     },
     "execution_count": 10,
     "metadata": {},
     "output_type": "execute_result"
    }
   ],
   "source": [
    "n = football_players.shape[0] + hockey_players.shape[0] + lifters.shape[0]\n",
    "k = 3\n",
    "k1 = k - 1\n",
    "k2 = n - k\n",
    "\n",
    "n, k1, k2"
   ]
  },
  {
   "cell_type": "code",
   "execution_count": 11,
   "id": "40641744",
   "metadata": {},
   "outputs": [
    {
     "data": {
      "text/plain": [
       "(126.9537337662339, 23.08227272727273)"
      ]
     },
     "execution_count": 11,
     "metadata": {},
     "output_type": "execute_result"
    }
   ],
   "source": [
    "sigma_2_b = SSb / (k - 1)\n",
    "sigma_2_w = SSw / (n - k)\n",
    "\n",
    "sigma_2_b, sigma_2_w"
   ]
  },
  {
   "cell_type": "code",
   "execution_count": 12,
   "id": "6305ee42",
   "metadata": {},
   "outputs": [
    {
     "data": {
      "text/plain": [
       "5.5"
      ]
     },
     "execution_count": 12,
     "metadata": {},
     "output_type": "execute_result"
    }
   ],
   "source": [
    "F = sigma_2_b / sigma_2_w\n",
    "F.round(2)"
   ]
  },
  {
   "cell_type": "code",
   "execution_count": 13,
   "id": "7ee205bb",
   "metadata": {},
   "outputs": [
    {
     "data": {
      "text/plain": [
       "3.39"
      ]
     },
     "execution_count": 13,
     "metadata": {},
     "output_type": "execute_result"
    }
   ],
   "source": [
    "alpha = 0.05\n",
    "F_crit = stats.f.ppf(1 - alpha, (k - 1), (n - k))\n",
    "F_crit.round(2)"
   ]
  },
  {
   "cell_type": "code",
   "execution_count": 14,
   "id": "a77bd228",
   "metadata": {},
   "outputs": [
    {
     "name": "stdout",
     "output_type": "stream",
     "text": [
      "F 5.5 > F_crit 3.39: различия среднего роста являются статистически значимыми\n"
     ]
    }
   ],
   "source": [
    "if F > F_crit:\n",
    "    print(f'F {F.round(2)} > F_crit {F_crit.round(2)}: различия среднего роста являются статистически значимыми')\n",
    "else:\n",
    "    print(f'F {F.round(2)} < F_crit {F_crit.round(2)}: различия среднего роста не являются статистически значимыми')"
   ]
  }
 ],
 "metadata": {
  "kernelspec": {
   "display_name": "Python 3",
   "language": "python",
   "name": "python3"
  },
  "language_info": {
   "codemirror_mode": {
    "name": "ipython",
    "version": 3
   },
   "file_extension": ".py",
   "mimetype": "text/x-python",
   "name": "python",
   "nbconvert_exporter": "python",
   "pygments_lexer": "ipython3",
   "version": "3.9.0"
  }
 },
 "nbformat": 4,
 "nbformat_minor": 5
}
