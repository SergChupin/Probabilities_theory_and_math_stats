{
 "cells": [
  {
   "cell_type": "markdown",
   "id": "969cfdb9",
   "metadata": {},
   "source": [
    "### Урок 2. Дискретные случайные величины. Закон распределения вероятностей. Биномиальный закон распределения. Распределение Пуассона"
   ]
  },
  {
   "cell_type": "markdown",
   "id": "4a9cb036",
   "metadata": {},
   "source": [
    "#### Задача 1\n",
    "Контрольная работа состоит из пяти вопросов. На каждый вопрос приведено четыре варианта ответа, один из которых правильный. Составьте закон распределения числа правильных ответов при простом угадывании. Найдите M(X), D(X)."
   ]
  },
  {
   "cell_type": "code",
   "execution_count": 1,
   "id": "bde47d0e",
   "metadata": {},
   "outputs": [],
   "source": [
    "import numpy as np"
   ]
  },
  {
   "cell_type": "code",
   "execution_count": 2,
   "id": "a8586c0a",
   "metadata": {},
   "outputs": [],
   "source": [
    "n = 5  # кол-во испытаний (вопросов)\n",
    "p = 0.25  # вероятность угадать правильный ответ\n",
    "q = 0.75  # вероятность ошибки при простом угадывании"
   ]
  },
  {
   "cell_type": "code",
   "execution_count": 3,
   "id": "0acb0382",
   "metadata": {},
   "outputs": [
    {
     "name": "stdout",
     "output_type": "stream",
     "text": [
      "0.2373046875 + 0.3955078125 + 0.263671875 + 0.087890625 + 0.0146484375 + 0.0009765625 = 1.0\n"
     ]
    }
   ],
   "source": [
    "# Вероятности:\n",
    "P_none = 1 * (0.25)**0 * (0.75)**5  # не угадать ни разу\n",
    "P_one = 5 * (0.25)**1 * (0.75)**4  # угадать один раз\n",
    "P_two = 10 * (0.25)**2 * (0.75)**3  # угадать дважды\n",
    "P_three = 10 * (0.25)**3 * (0.75)**2  # угадать трижды\n",
    "P_four = 5 * (0.25)**4 * (0.75)**1  # угадать четырежды\n",
    "P_five = 1 * (0.25)**5 * (0.75)**0  # угадать все ответы\n",
    "P_total = P_none + P_one + P_two + P_three + P_four + P_five  # Проверка\n",
    "print(f'{P_none} + {P_one} + {P_two} + {P_three} + {P_four} + {P_five} = {P_total}')"
   ]
  },
  {
   "cell_type": "code",
   "execution_count": 4,
   "id": "77a624fe",
   "metadata": {},
   "outputs": [
    {
     "data": {
      "text/plain": [
       "1.25"
      ]
     },
     "execution_count": 4,
     "metadata": {},
     "output_type": "execute_result"
    }
   ],
   "source": [
    "# M(X) = np\n",
    "M = n * p\n",
    "M"
   ]
  },
  {
   "cell_type": "code",
   "execution_count": 5,
   "id": "abccb6b7",
   "metadata": {},
   "outputs": [
    {
     "data": {
      "text/plain": [
       "0.9375"
      ]
     },
     "execution_count": 5,
     "metadata": {},
     "output_type": "execute_result"
    }
   ],
   "source": [
    "# D(X) = npq\n",
    "D = n * p * q\n",
    "D"
   ]
  },
  {
   "cell_type": "markdown",
   "id": "5705e031",
   "metadata": {},
   "source": [
    "#### Задача 2\n",
    "\n",
    "Вероятность поймать рыбу при одном забрасывании удочки равна 0.01. Какова вероятность того, что число пойманных рыб при 200 забросах удочки будет не менее 5 и не более 10?"
   ]
  },
  {
   "cell_type": "code",
   "execution_count": 6,
   "id": "3259097e",
   "metadata": {},
   "outputs": [
    {
     "data": {
      "text/plain": [
       "2.0"
      ]
     },
     "execution_count": 6,
     "metadata": {},
     "output_type": "execute_result"
    }
   ],
   "source": [
    "lambda_ = 200 * 0.01  # лямбда - кол-во пойманной рыбы при заданной вероятности 0,01 при 200 забросах удочки\n",
    "lambda_"
   ]
  },
  {
   "cell_type": "code",
   "execution_count": 7,
   "id": "bb97e24f",
   "metadata": {},
   "outputs": [],
   "source": [
    "def combinations (k, lambda_):\n",
    "    return (lambda_ ** k / np.math.factorial(k)) * np.exp(-lambda_)"
   ]
  },
  {
   "cell_type": "code",
   "execution_count": 8,
   "id": "092c24f7",
   "metadata": {},
   "outputs": [
    {
     "name": "stdout",
     "output_type": "stream",
     "text": [
      "Вероятность того, что число пойманных рыб будет от 5 до 10 = 0.052644709119342686\n"
     ]
    }
   ],
   "source": [
    "print(f'Вероятность того, что число пойманных рыб будет от 5 до 10 = {sum(combinations(k, lambda_) for k in range (5, 11))}')"
   ]
  },
  {
   "cell_type": "markdown",
   "id": "87047ce9",
   "metadata": {},
   "source": [
    "#### Задача 3\n",
    "\n",
    "В условиях предыдущей задачи сколько забросов удочки нужно сделать чтобы быть уверенным с вероятностью 0.9, что хотя бы 10 раз будет поймана рыба?"
   ]
  },
  {
   "cell_type": "code",
   "execution_count": 9,
   "id": "af027a92",
   "metadata": {},
   "outputs": [
    {
     "name": "stdout",
     "output_type": "stream",
     "text": [
      "Нужно сделать 1542 забросов удочки\n"
     ]
    }
   ],
   "source": [
    "def puasson(k, lambda_):\n",
    "    return (lambda_ ** k / np.math.factorial(k)) * np.exp(-lambda_)\n",
    "prob = 0\n",
    "n = 0\n",
    "while (prob <= 0.9):\n",
    "    prob = 1 - sum(puasson(k, lambda_= n * 0.01) for k in range(0, 11))\n",
    "    n += 1\n",
    "\n",
    "print(f'Нужно сделать {n} забросов удочки')"
   ]
  }
 ],
 "metadata": {
  "kernelspec": {
   "display_name": "Python 3",
   "language": "python",
   "name": "python3"
  },
  "language_info": {
   "codemirror_mode": {
    "name": "ipython",
    "version": 3
   },
   "file_extension": ".py",
   "mimetype": "text/x-python",
   "name": "python",
   "nbconvert_exporter": "python",
   "pygments_lexer": "ipython3",
   "version": "3.9.0"
  }
 },
 "nbformat": 4,
 "nbformat_minor": 5
}
