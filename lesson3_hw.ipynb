{
 "cells": [
  {
   "cell_type": "markdown",
   "id": "ac76eeb9",
   "metadata": {},
   "source": [
    "### Урок 3. Описательная статистика. Качественные и количественные характеристики популяции. Графическое представление данных"
   ]
  },
  {
   "cell_type": "code",
   "execution_count": 1,
   "id": "f2c8da11",
   "metadata": {},
   "outputs": [],
   "source": [
    "import numpy as np\n",
    "import pandas as pd\n",
    "import matplotlib.pyplot as plt\n",
    "import warnings\n",
    "warnings.filterwarnings('ignore')"
   ]
  },
  {
   "cell_type": "markdown",
   "id": "d36db3bb",
   "metadata": {},
   "source": [
    "__Задача 1__. Даны значения зарплат из выборки выпускников. Без использования статистических функций посчитать среднее арифметическое, среднее квадратичное отклонение, смещенную и несмещенную оценки дисперсий для данной выборки."
   ]
  },
  {
   "cell_type": "code",
   "execution_count": 2,
   "id": "eb79ece0",
   "metadata": {},
   "outputs": [],
   "source": [
    "salary = np.array([100, 80, 75, 77, 89, 33, 45, 25, 65, 17, 30, 24, 57, 55, 70, 75, 65, 84, 90, 150])"
   ]
  },
  {
   "cell_type": "code",
   "execution_count": 3,
   "id": "357afaf5",
   "metadata": {},
   "outputs": [
    {
     "name": "stdout",
     "output_type": "stream",
     "text": [
      "Среднее аримфметическое = 65.3\n"
     ]
    }
   ],
   "source": [
    "mean_salary = salary.sum() / len(salary)\n",
    "print(f'Среднее аримфметическое = {mean_salary}')"
   ]
  },
  {
   "cell_type": "code",
   "execution_count": 4,
   "id": "8bb3eec3",
   "metadata": {},
   "outputs": [
    {
     "name": "stdout",
     "output_type": "stream",
     "text": [
      "Среднее квадратичное отклонение = 30.823854398825596\n"
     ]
    }
   ],
   "source": [
    "salary_std = np.sqrt(((salary - salary.mean()) ** 2).sum() / len(salary))\n",
    "print(f'Среднее квадратичное отклонение = {salary_std}')"
   ]
  },
  {
   "cell_type": "code",
   "execution_count": 5,
   "id": "affb0343",
   "metadata": {
    "scrolled": false
   },
   "outputs": [
    {
     "name": "stdout",
     "output_type": "stream",
     "text": [
      "Cмещенная оценка дисперсии = 950.11\n"
     ]
    }
   ],
   "source": [
    "salary_var = ((salary - salary.mean()) ** 2).sum() / len(salary)\n",
    "print(f'Cмещенная оценка дисперсии = {salary_var}')"
   ]
  },
  {
   "cell_type": "code",
   "execution_count": 6,
   "id": "2b0d9ae7",
   "metadata": {},
   "outputs": [
    {
     "name": "stdout",
     "output_type": "stream",
     "text": [
      "Несмещенная оценка дисперсии = 1000.1157894736842\n"
     ]
    }
   ],
   "source": [
    "salary_novar = ((salary - salary.mean()) ** 2).sum() / (len(salary) - 1)\n",
    "print(f'Несмещенная оценка дисперсии = {salary_novar}')"
   ]
  },
  {
   "cell_type": "markdown",
   "id": "25886379",
   "metadata": {},
   "source": [
    "Можно затем посчитать те же значения с использованием статистических функций, чтобы проверить себя."
   ]
  },
  {
   "cell_type": "code",
   "execution_count": 7,
   "id": "a4f3fbe2",
   "metadata": {},
   "outputs": [
    {
     "data": {
      "text/plain": [
       "65.3"
      ]
     },
     "execution_count": 7,
     "metadata": {},
     "output_type": "execute_result"
    }
   ],
   "source": [
    "np.mean(salary)"
   ]
  },
  {
   "cell_type": "code",
   "execution_count": 8,
   "id": "073e26cb",
   "metadata": {},
   "outputs": [
    {
     "data": {
      "text/plain": [
       "30.823854398825596"
      ]
     },
     "execution_count": 8,
     "metadata": {},
     "output_type": "execute_result"
    }
   ],
   "source": [
    "np.std(salary)"
   ]
  },
  {
   "cell_type": "code",
   "execution_count": 9,
   "id": "95d3805c",
   "metadata": {},
   "outputs": [
    {
     "data": {
      "text/plain": [
       "950.11"
      ]
     },
     "execution_count": 9,
     "metadata": {},
     "output_type": "execute_result"
    }
   ],
   "source": [
    "np.var(salary)"
   ]
  },
  {
   "cell_type": "markdown",
   "id": "f5679eda",
   "metadata": {},
   "source": [
    "__Задача 2__. Для выборки из задачи 1 найти первый и третий квартили, интерквартильное расстояние. Найти выборсы в выборке, используя для этого \"усы\" из boxplot. В этой задаче можно использовать статистические функции."
   ]
  },
  {
   "cell_type": "code",
   "execution_count": 10,
   "id": "7d6ed661",
   "metadata": {},
   "outputs": [
    {
     "data": {
      "text/html": [
       "<div>\n",
       "<style scoped>\n",
       "    .dataframe tbody tr th:only-of-type {\n",
       "        vertical-align: middle;\n",
       "    }\n",
       "\n",
       "    .dataframe tbody tr th {\n",
       "        vertical-align: top;\n",
       "    }\n",
       "\n",
       "    .dataframe thead th {\n",
       "        text-align: right;\n",
       "    }\n",
       "</style>\n",
       "<table border=\"1\" class=\"dataframe\">\n",
       "  <thead>\n",
       "    <tr style=\"text-align: right;\">\n",
       "      <th></th>\n",
       "      <th>0</th>\n",
       "    </tr>\n",
       "  </thead>\n",
       "  <tbody>\n",
       "    <tr>\n",
       "      <th>0</th>\n",
       "      <td>100</td>\n",
       "    </tr>\n",
       "    <tr>\n",
       "      <th>1</th>\n",
       "      <td>80</td>\n",
       "    </tr>\n",
       "    <tr>\n",
       "      <th>2</th>\n",
       "      <td>75</td>\n",
       "    </tr>\n",
       "    <tr>\n",
       "      <th>3</th>\n",
       "      <td>77</td>\n",
       "    </tr>\n",
       "    <tr>\n",
       "      <th>4</th>\n",
       "      <td>89</td>\n",
       "    </tr>\n",
       "    <tr>\n",
       "      <th>5</th>\n",
       "      <td>33</td>\n",
       "    </tr>\n",
       "    <tr>\n",
       "      <th>6</th>\n",
       "      <td>45</td>\n",
       "    </tr>\n",
       "    <tr>\n",
       "      <th>7</th>\n",
       "      <td>25</td>\n",
       "    </tr>\n",
       "    <tr>\n",
       "      <th>8</th>\n",
       "      <td>65</td>\n",
       "    </tr>\n",
       "    <tr>\n",
       "      <th>9</th>\n",
       "      <td>17</td>\n",
       "    </tr>\n",
       "    <tr>\n",
       "      <th>10</th>\n",
       "      <td>30</td>\n",
       "    </tr>\n",
       "    <tr>\n",
       "      <th>11</th>\n",
       "      <td>24</td>\n",
       "    </tr>\n",
       "    <tr>\n",
       "      <th>12</th>\n",
       "      <td>57</td>\n",
       "    </tr>\n",
       "    <tr>\n",
       "      <th>13</th>\n",
       "      <td>55</td>\n",
       "    </tr>\n",
       "    <tr>\n",
       "      <th>14</th>\n",
       "      <td>70</td>\n",
       "    </tr>\n",
       "    <tr>\n",
       "      <th>15</th>\n",
       "      <td>75</td>\n",
       "    </tr>\n",
       "    <tr>\n",
       "      <th>16</th>\n",
       "      <td>65</td>\n",
       "    </tr>\n",
       "    <tr>\n",
       "      <th>17</th>\n",
       "      <td>84</td>\n",
       "    </tr>\n",
       "    <tr>\n",
       "      <th>18</th>\n",
       "      <td>90</td>\n",
       "    </tr>\n",
       "    <tr>\n",
       "      <th>19</th>\n",
       "      <td>150</td>\n",
       "    </tr>\n",
       "  </tbody>\n",
       "</table>\n",
       "</div>"
      ],
      "text/plain": [
       "      0\n",
       "0   100\n",
       "1    80\n",
       "2    75\n",
       "3    77\n",
       "4    89\n",
       "5    33\n",
       "6    45\n",
       "7    25\n",
       "8    65\n",
       "9    17\n",
       "10   30\n",
       "11   24\n",
       "12   57\n",
       "13   55\n",
       "14   70\n",
       "15   75\n",
       "16   65\n",
       "17   84\n",
       "18   90\n",
       "19  150"
      ]
     },
     "execution_count": 10,
     "metadata": {},
     "output_type": "execute_result"
    }
   ],
   "source": [
    "df_salary = pd.DataFrame(salary)\n",
    "df_salary"
   ]
  },
  {
   "cell_type": "code",
   "execution_count": 11,
   "id": "a3ed6ca7",
   "metadata": {},
   "outputs": [
    {
     "name": "stdout",
     "output_type": "stream",
     "text": [
      "Первый квартиль = 42.0\n",
      "Трейтий квартиль = 81.0\n",
      "Интерквартильное расстояние = 39.0\n"
     ]
    }
   ],
   "source": [
    "q1 = df_salary[0].quantile(0.25)\n",
    "q3 = df_salary[0].quantile(0.75)\n",
    "iqr = q3 - q1\n",
    "\n",
    "print(f'Первый квартиль = {q1}')\n",
    "print(f'Трейтий квартиль = {q3}')\n",
    "print(f'Интерквартильное расстояние = {iqr}')"
   ]
  },
  {
   "cell_type": "code",
   "execution_count": 12,
   "id": "0c6214ec",
   "metadata": {},
   "outputs": [
    {
     "data": {
      "text/plain": [
       "<AxesSubplot:>"
      ]
     },
     "execution_count": 12,
     "metadata": {},
     "output_type": "execute_result"
    },
    {
     "data": {
      "image/png": "[encoded data removed]",
      "text/plain": [
       "<Figure size 432x288 with 1 Axes>"
      ]
     },
     "metadata": {
      "needs_background": "light"
     },
     "output_type": "display_data"
    }
   ],
   "source": [
    "df_salary.boxplot()"
   ]
  },
  {
   "cell_type": "code",
   "execution_count": 13,
   "id": "0a6c8102",
   "metadata": {},
   "outputs": [
    {
     "data": {
      "text/plain": [
       "(-16.5, 139.5)"
      ]
     },
     "execution_count": 13,
     "metadata": {},
     "output_type": "execute_result"
    }
   ],
   "source": [
    "boxplot_values = (q1 - 1.5 * iqr, q3 + 1.5 * iqr)\n",
    "boxplot_values"
   ]
  },
  {
   "cell_type": "markdown",
   "id": "751d4ccc",
   "metadata": {},
   "source": [
    "__Задача 3__. В университет на факультеты A и B поступило равное количество студентов, а на факультет C студентов поступило столько же, сколько на A и B вместе. Вероятность того, что студент факультета A сдаст первую сессию, равна 0.8. Для студента факультета B эта вероятность равна 0.7, а для студента факультета C - 0.9. Студент сдал первую сессию. Какова вероятность, что он учится: \n",
    "\n",
    "a) на факультете A? \n",
    "\n",
    "б) на факультете B? \n",
    "\n",
    "в) на факультете C?"
   ]
  },
  {
   "cell_type": "markdown",
   "id": "399045b3",
   "metadata": {},
   "source": [
    "Исходя из условий задачи, шанс на то, что студент учится на факультете А = 0,25; на В тоже = 0,25; на С = 0,5."
   ]
  },
  {
   "cell_type": "code",
   "execution_count": 14,
   "id": "3643f650",
   "metadata": {},
   "outputs": [
    {
     "data": {
      "text/plain": [
       "0.825"
      ]
     },
     "execution_count": 14,
     "metadata": {},
     "output_type": "execute_result"
    }
   ],
   "source": [
    "# Полная вероятность того, что сдадут все:\n",
    "P = 0.25 * 0.8 + 0.25 * 0.7 + 0.5 * 0.9\n",
    "P"
   ]
  },
  {
   "cell_type": "code",
   "execution_count": 15,
   "id": "a7981992",
   "metadata": {},
   "outputs": [],
   "source": [
    "PA = 0.25 * 0.8 / 0.825\n",
    "PB = 0.25 * 0.7 / 0.825\n",
    "PC = 0.5 * 0.9 / 0.825"
   ]
  },
  {
   "cell_type": "code",
   "execution_count": 16,
   "id": "7f4e652b",
   "metadata": {},
   "outputs": [
    {
     "name": "stdout",
     "output_type": "stream",
     "text": [
      "Вероятность, что он учится на факультете А = 0.24242424242424246\n",
      "Вероятность, что он учится на факультете B = 0.21212121212121213\n",
      "Вероятность, что он учится на факультете C = 0.5454545454545455\n"
     ]
    }
   ],
   "source": [
    "print(f'Вероятность, что он учится на факультете А = {PA}')\n",
    "print(f'Вероятность, что он учится на факультете B = {PB}')\n",
    "print(f'Вероятность, что он учится на факультете C = {PC}')"
   ]
  },
  {
   "cell_type": "code",
   "execution_count": 17,
   "id": "f83a0ea8",
   "metadata": {},
   "outputs": [
    {
     "name": "stdout",
     "output_type": "stream",
     "text": [
      "1.0\n"
     ]
    }
   ],
   "source": [
    "# Суммируем все вероятности для проверки\n",
    "print(PA + PB + PC)"
   ]
  }
 ],
 "metadata": {
  "kernelspec": {
   "display_name": "Python 3",
   "language": "python",
   "name": "python3"
  },
  "language_info": {
   "codemirror_mode": {
    "name": "ipython",
    "version": 3
   },
   "file_extension": ".py",
   "mimetype": "text/x-python",
   "name": "python",
   "nbconvert_exporter": "python",
   "pygments_lexer": "ipython3",
   "version": "3.9.0"
  }
 },
 "nbformat": 4,
 "nbformat_minor": 5
}
